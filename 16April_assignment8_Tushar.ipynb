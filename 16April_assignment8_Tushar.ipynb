{
  "nbformat": 4,
  "nbformat_minor": 0,
  "metadata": {
    "colab": {
      "provenance": [],
      "authorship_tag": "ABX9TyODBvvlMLG5DrQL1WlP9fuy",
      "include_colab_link": true
    },
    "kernelspec": {
      "name": "python3",
      "display_name": "Python 3"
    },
    "language_info": {
      "name": "python"
    }
  },
  "cells": [
    {
      "cell_type": "markdown",
      "metadata": {
        "id": "view-in-github",
        "colab_type": "text"
      },
      "source": [
        "<a href=\"https://colab.research.google.com/github/aishwaryabit1603/Big_data/blob/main/mlr.ipynb\" target=\"_parent\"><img src=\"https://colab.research.google.com/assets/colab-badge.svg\" alt=\"Open In Colab\"/></a>"
      ]
    },
    {
      "cell_type": "code",
      "execution_count": 14,
      "metadata": {
        "id": "4AOFq9_Rgi9C"
      },
      "outputs": [],
      "source": [
        "import numpy as np"
      ]
    },
    {
      "cell_type": "code",
      "source": [
        "y  = [140,155,159,179,192,200,212,215]\n",
        "x1 = [60,62,67,70,71,72,75,78]\n",
        "x2 = [22,25,24,20,15,14,14,11]"
      ],
      "metadata": {
        "id": "13MlPlTMhnii"
      },
      "execution_count": 23,
      "outputs": []
    },
    {
      "cell_type": "code",
      "source": [
        "import matplotlib.pyplot as plt\n",
        "\n",
        "plt.scatter(x1,y)\n",
        "plt.scatter(x2,y)"
      ],
      "metadata": {
        "colab": {
          "base_uri": "https://localhost:8080/",
          "height": 447
        },
        "id": "KsVt70GV4jGK",
        "outputId": "8dbafecf-f925-4729-c4d3-ec18e7a69191"
      },
      "execution_count": 26,
      "outputs": [
        {
          "output_type": "execute_result",
          "data": {
            "text/plain": [
              "<matplotlib.collections.PathCollection at 0x79241435c670>"
            ]
          },
          "metadata": {},
          "execution_count": 26
        },
        {
          "output_type": "display_data",
          "data": {
            "text/plain": [
              "<Figure size 640x480 with 1 Axes>"
            ],
            "image/png": "[encoded data removed]"
          },
          "metadata": {}
        }
      ]
    },
    {
      "cell_type": "code",
      "source": [
        "n = len(x1)\n",
        "\n",
        "X1_square = []\n",
        "for i in x1:\n",
        "  X1_square.append(i*i)\n",
        "\n",
        "X2_square = []\n",
        "for i in x2:\n",
        "  X2_square.append(i*i)\n",
        "\n",
        "X1_y = []\n",
        "for i in range(len(y)):\n",
        "  X1_y.append(x1[i] * y[i])\n",
        "\n",
        "X2_y = []\n",
        "for i in range(len(y)):\n",
        "  X2_y.append(x2[i] * y[i])\n",
        "\n",
        "X1_X2 = []\n",
        "for i in range(len(x2)):\n",
        "  X1_X2.append(x1[i] * x2[i])\n",
        "\n",
        "x1_2 = sum(X1_square) - (sum(x1) * sum(x1))/n;\n",
        "x2_2 = sum(X2_square) - (sum(x2) * sum(x2))/n\n",
        "x1_y = sum(X1_y) - (sum(x1) * sum(y)) / n\n",
        "x2_y = sum(X2_y) - (sum(x2) * sum(y)) / n\n",
        "x1_x2 = sum(X1_X2) - (sum(x1) * sum(x2)) / n"
      ],
      "metadata": {
        "id": "WWH0Hy_riZwm"
      },
      "execution_count": 16,
      "outputs": []
    },
    {
      "cell_type": "code",
      "source": [
        "b1 = (x2_2 * x1_y - x1_x2 * x2_y) / (x1_2 * x2_2 - (x1_x2 * x1_x2))\n",
        "print(b1)"
      ],
      "metadata": {
        "id": "bzlq9UfWmQbQ",
        "colab": {
          "base_uri": "https://localhost:8080/"
        },
        "outputId": "e8202649-9fd9-4a30-98de-84b032cf1807"
      },
      "execution_count": 17,
      "outputs": [
        {
          "output_type": "stream",
          "name": "stdout",
          "text": [
            "3.147893102683522\n"
          ]
        }
      ]
    },
    {
      "cell_type": "code",
      "source": [
        "b2 = (x1_2 * x2_y - x1_x2 * x1_y) / (x1_2 * x2_2 - x1_x2 * x1_x2)\n",
        "print(b2)"
      ],
      "metadata": {
        "colab": {
          "base_uri": "https://localhost:8080/"
        },
        "id": "4GtburElwp8y",
        "outputId": "f3b2c82d-6b5c-4ab5-fa71-2bd2c131ff8b"
      },
      "execution_count": 19,
      "outputs": [
        {
          "output_type": "stream",
          "name": "stdout",
          "text": [
            "-1.6561432690175206\n"
          ]
        }
      ]
    },
    {
      "cell_type": "code",
      "source": [
        "b0 = sum(y)/len(y) - b1 * sum(x1)/len(x1) - b2 * sum(x2)/len(x2)\n",
        "print(b0)"
      ],
      "metadata": {
        "colab": {
          "base_uri": "https://localhost:8080/"
        },
        "id": "9bqUiq7ayLuC",
        "outputId": "6781e1e9-7788-4f7c-f5aa-18f8ec07b259"
      },
      "execution_count": 21,
      "outputs": [
        {
          "output_type": "stream",
          "name": "stdout",
          "text": [
            "-6.867487247726768\n"
          ]
        }
      ]
    },
    {
      "cell_type": "code",
      "source": [
        "def mlr(x1,x2):\n",
        "  return b0 + b1 * x1 + b2 * x2"
      ],
      "metadata": {
        "id": "PLDLtfZ535NG"
      },
      "execution_count": 22,
      "outputs": []
    }
  ]
}